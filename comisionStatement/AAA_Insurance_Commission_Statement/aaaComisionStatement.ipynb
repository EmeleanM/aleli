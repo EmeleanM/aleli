{
 "cells": [
  {
   "cell_type": "code",
   "execution_count": 1,
   "id": "53c1d3fd",
   "metadata": {},
   "outputs": [],
   "source": [
    "#librerias\n",
    "\n",
    "import os\n",
    "import pandas as pd\n",
    "from numpy import where\n",
    "from openpyxl import load_workbook"
   ]
  },
  {
   "cell_type": "code",
   "execution_count": 2,
   "id": "f88ae290",
   "metadata": {},
   "outputs": [
    {
     "name": "stdout",
     "output_type": "stream",
     "text": [
      " \n",
      "******************** METROPOLITAN INSURANCE *********************\n",
      "      ********************************************\n",
      "      \n",
      "********* Comision Statement - AAA the member insurance company *********\n",
      " V 1.0.0 - 2023\n",
      " ALELÍ Business Consulting\n",
      "\n",
      "\n"
     ]
    }
   ],
   "source": [
    "print(''' ''')\n",
    "print(\"******************** METROPOLITAN INSURANCE *********************\")\n",
    "print('''      ********************************************\n",
    "      ''')\n",
    "print(\"********* Comision Statement - AAA the member insurance company *********\")\n",
    "print(\" V 1.0.0 - 2023\")\n",
    "print(\" ALELÍ Business Consulting\")\n",
    "print('''\n",
    "''')"
   ]
  },
  {
   "cell_type": "code",
   "execution_count": 3,
   "id": "0c6ccc98",
   "metadata": {},
   "outputs": [],
   "source": [
    "#variables\n",
    "\n",
    "usuario = os.path.expanduser('~')\n",
    "rutaArchivo = f'{usuario}\\\\Downloads\\\\'\n",
    "rutaDescarga = f'{usuario}\\\\Desktop\\\\MI Reports\\\\Comision Statement\\\\AAA the member insurance company\\\\Entregables\\\\'\n",
    "os.makedirs(rutaDescarga, exist_ok=True)"
   ]
  },
  {
   "cell_type": "code",
   "execution_count": 4,
   "id": "aacc0450",
   "metadata": {
    "scrolled": true
   },
   "outputs": [],
   "source": [
    "#lectura de archivo\n",
    "\n",
    "try:\n",
    "    df = pd.read_excel(f'{rutaArchivo}A00122_Metropolitan Insurance LLC.xlsx').fillna('')\n",
    "except:\n",
    "    print=(\"Error message: El archivo de origen no se encuentra en la ruta especificada\")"
   ]
  },
  {
   "cell_type": "code",
   "execution_count": 5,
   "id": "28917b35",
   "metadata": {},
   "outputs": [],
   "source": [
    "#(Elimina las filas con subtotales)\n",
    "\n",
    "df = df.loc[df['Distribution'] != \"\"] \n",
    "\n",
    "#Formateo de columna porcentajes\n",
    "df['CommissPct'] = (df['CommissPct'] * 100).astype(str) + '%'\n",
    "\n",
    "#Formateo de Fechas\n",
    "for col in df.columns:\n",
    "    if pd.api.types.is_datetime64_any_dtype(df[col]):\n",
    "        df[col] = df[col].dt.strftime('%m-%d-%Y')\n",
    "\n",
    "#Variables mes y año\n",
    "mesesAño = ['','Jan', 'Feb', 'Mar', 'Apr', 'May', 'Jun', 'Jul', 'Aug', 'Sep', 'Oct', 'Nov', 'Dec']\n",
    "mesFiltro = int(df['TransDate'].str[0:2].drop_duplicates())\n",
    "mes = mesesAño[mesFiltro]\n",
    "\n",
    "año = int(df['TransDate'].str[6:10].drop_duplicates())"
   ]
  },
  {
   "cell_type": "code",
   "execution_count": 6,
   "id": "545f1d11",
   "metadata": {},
   "outputs": [],
   "source": [
    "#Modificación de valores en columnas\n",
    "\n",
    "transaction_mappings = {\n",
    "    'Policy Change': 'PCH',\n",
    "    'Renewal': 'RWL',\n",
    "    'Reinstatement': 'REI',\n",
    "    'Cancellation': 'XLC',\n",
    "    'Policy Issuance': 'NBS'\n",
    "}\n",
    "\n",
    "for old_value, new_value in transaction_mappings.items():\n",
    "    df['TransactionType'] = where(df['TransactionType'] == old_value, new_value, df['TransactionType'])"
   ]
  },
  {
   "cell_type": "code",
   "execution_count": 7,
   "id": "f4eff227",
   "metadata": {
    "scrolled": true
   },
   "outputs": [],
   "source": [
    "#Renombrar columnas\n",
    "\n",
    "df = df.rename(columns={'NamedInsured' : 'Insured Name', 'PolicyNumber' : 'Policy Number', 'EffDate' : 'Policy Eff Date', 'TransactionType' : 'Trans Type Code', 'TransAmount' : 'Premium', 'CommissAmount' : 'Comm Amount', 'CommissPct' : 'Comm Percent'})    "
   ]
  },
  {
   "cell_type": "code",
   "execution_count": 8,
   "id": "4be50729",
   "metadata": {},
   "outputs": [],
   "source": [
    "#Creación de excel\n",
    "\n",
    "df.to_excel(f'{rutaDescarga}AAA-Statement-{mes} {año}.xlsx', index= False)\n",
    "\n",
    "#Auto ajustar columnas\n",
    "archivo = f'{rutaDescarga}AAA-Statement-{mes} {año}.xlsx'\n",
    "\n",
    "wb = load_workbook(archivo)\n",
    "worksheet = wb['Sheet1']\n",
    "\n",
    "for i, col in enumerate(df.columns):\n",
    "    column_width = max(df[col].astype(str).map(len).max(), len(col)) + 2\n",
    "    worksheet.column_dimensions[worksheet.cell(row=1, column=i + 1).column_letter].width = column_width\n",
    "\n",
    "wb.save(archivo)"
   ]
  },
  {
   "cell_type": "code",
   "execution_count": 9,
   "id": "38d38453",
   "metadata": {},
   "outputs": [
    {
     "name": "stdout",
     "output_type": "stream",
     "text": [
      "\n",
      "\n",
      "\n",
      "Script done - Report was generated\n"
     ]
    }
   ],
   "source": [
    "print('''\n",
    "\n",
    "''')\n",
    "print(\"Script done - Report was generated\")"
   ]
  }
 ],
 "metadata": {
  "kernelspec": {
   "display_name": "Python 3 (ipykernel)",
   "language": "python",
   "name": "python3"
  },
  "language_info": {
   "codemirror_mode": {
    "name": "ipython",
    "version": 3
   },
   "file_extension": ".py",
   "mimetype": "text/x-python",
   "name": "python",
   "nbconvert_exporter": "python",
   "pygments_lexer": "ipython3",
   "version": "3.10.9"
  }
 },
 "nbformat": 4,
 "nbformat_minor": 5
}

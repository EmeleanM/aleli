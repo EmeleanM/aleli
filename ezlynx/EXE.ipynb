{
 "cells": [
  {
   "cell_type": "code",
   "execution_count": 1,
   "id": "92169f86",
   "metadata": {},
   "outputs": [],
   "source": [
    "\n",
    "#Aperturar la terminal del jupyter\n",
    "#Posicionar la terminal en la carpeta C:\\Users\\56959\\Desktop\\Proyectos\\ezlynx\n",
    "#Copiar y ejecutar\n",
    "\n",
    "pyinstaller --onefile --icon=./aleli.ico --hidden-import openpyxl.cell._writer ezlynx_actividad_semanal"
   ]
  }
 ],
 "metadata": {
  "kernelspec": {
   "display_name": "Python 3 (ipykernel)",
   "language": "python",
   "name": "python3"
  },
  "language_info": {
   "codemirror_mode": {
    "name": "ipython",
    "version": 3
   },
   "file_extension": ".py",
   "mimetype": "text/x-python",
   "name": "python",
   "nbconvert_exporter": "python",
   "pygments_lexer": "ipython3",
   "version": "3.10.9"
  }
 },
 "nbformat": 4,
 "nbformat_minor": 5
}

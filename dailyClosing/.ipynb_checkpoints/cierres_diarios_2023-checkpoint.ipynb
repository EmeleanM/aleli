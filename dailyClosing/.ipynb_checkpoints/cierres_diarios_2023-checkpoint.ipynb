{
 "cells": [
  {
   "cell_type": "code",
   "execution_count": 1,
   "metadata": {
    "colab": {
     "base_uri": "https://localhost:8080/",
     "height": 397
    },
    "id": "8m44J_a2YlU9",
    "outputId": "e060d96a-6c40-43d7-e5cc-22e9acf43721"
   },
   "outputs": [],
   "source": [
    "#Librerias a utilizar\n",
    "\n",
    "import pandas as pd\n",
    "import numpy as np\n",
    "import os\n",
    "import xlrd\n",
    "import dateutil.parser as parser\n",
    "from datetime import timedelta\n",
    "from datetime import datetime\n",
    "from openpyxl import Workbook\n",
    "from openpyxl import load_workbook"
   ]
  },
  {
   "cell_type": "code",
   "execution_count": 2,
   "metadata": {},
   "outputs": [
    {
     "name": "stdout",
     "output_type": "stream",
     "text": [
      " \n",
      "\n",
      "\n",
      "-------- DAYLING CLOSING REPORT --------\n",
      "V 1.0.0 - 2023\n",
      "ALELÍ Business Consulting\n",
      " \n",
      "\n",
      "\n",
      "\n",
      "\n"
     ]
    }
   ],
   "source": [
    "print(''' \n",
    "\n",
    "''')\n",
    "\n",
    "print(\"-------- DAYLING CLOSING REPORT --------\")\n",
    "print(\"V 1.0.0 - 2023\")\n",
    "print(\"ALELÍ Business Consulting\")\n",
    "print(''' \n",
    "\n",
    "\n",
    "\n",
    "''')"
   ]
  },
  {
   "cell_type": "code",
   "execution_count": 3,
   "metadata": {
    "id": "2Mf8Km5d-Wcy"
   },
   "outputs": [
    {
     "name": "stdout",
     "output_type": "stream",
     "text": [
      "Select the date of the report (Format: MMDDYY): 080123\n"
     ]
    }
   ],
   "source": [
    "#Fecha del reporte\n",
    "\n",
    "fecha = input(\"Select the date of the report (Format: MMDDYY): \")\n",
    "\n",
    "fecha_obj = datetime.strptime(fecha, \"%m%d%y\")\n",
    "mes = fecha_obj.strftime(\"%b\")\n",
    "año = fecha_obj.strftime(\"%Y\")"
   ]
  },
  {
   "cell_type": "code",
   "execution_count": 4,
   "metadata": {},
   "outputs": [],
   "source": [
    "#Ruta\n",
    "\n",
    "usuario = os.path.expanduser('~')\n",
    "path = f'{usuario}\\\\Desktop\\\\MI Reports\\\\Daily closing\\\\{año}\\\\{mes}\\\\{fecha}\\\\'\n",
    "os.makedirs(path, exist_ok=True)"
   ]
  },
  {
   "cell_type": "code",
   "execution_count": 5,
   "metadata": {
    "id": "lRRqsl0uxDMX",
    "scrolled": true
   },
   "outputs": [
    {
     "name": "stdout",
     "output_type": "stream",
     "text": [
      "WARNING *** OLE2 inconsistency: SSCS size is 0 but SSAT size is non-zero\n"
     ]
    },
    {
     "name": "stderr",
     "output_type": "stream",
     "text": [
      "C:\\Users\\56959\\AppData\\Local\\Temp\\ipykernel_9208\\1259034385.py:21: SettingWithCopyWarning: \n",
      "A value is trying to be set on a copy of a slice from a DataFrame.\n",
      "Try using .loc[row_indexer,col_indexer] = value instead\n",
      "\n",
      "See the caveats in the documentation: https://pandas.pydata.org/pandas-docs/stable/user_guide/indexing.html#returning-a-view-versus-a-copy\n",
      "  df4['TYPE'] = df4['TYPE'].replace('', np.nan).ffill() #rellena filas siguientes con último dato\n"
     ]
    }
   ],
   "source": [
    "# 2) CASH RECEIPTS REPORT\n",
    "\n",
    "file = \"CashReceiptsReport.xls\"\n",
    "\n",
    "try:\n",
    "    dfc = pd.read_excel(path + file, engine='xlrd',  dtype={'Policy Number': 'str'}).fillna('')\n",
    "\n",
    "except(FileNotFoundError):\n",
    "    print(\"The CashReceiptsReport.xls file is not in the folder\")\n",
    "\n",
    "\n",
    "df2 = dfc.iloc[4:, :]\n",
    "#print(df2)\n",
    "#df2.dtypes\n",
    "\n",
    "df3=df2.rename(columns={\"Cash Receipts\": \"TYPE\",  \"Unnamed: 1\": \"Payer\", \"Unnamed: 4\": \"Receipt #\", \"Unnamed: 6\": \"Check #\", \n",
    "                        \"Unnamed: 8\": \"Comment\", \"Unnamed: 10\": \"Status\", \n",
    "                        \"Unnamed: 12\": \"Receipt_Date\", \"Unnamed: 14\": \"Receipt Amount\", \"Unnamed: 16\":\"Entered By\"})\n",
    "\n",
    "df4= df3[[\"TYPE\", \"Payer\", \"Receipt #\", \"Check #\", \"Comment\", \"Status\", \"Receipt_Date\", \"Receipt Amount\", \"Entered By\"]]\n",
    "df4['TYPE'] = df4['TYPE'].replace('', np.nan).ffill() #rellena filas siguientes con último dato\n",
    "df4 = df4[(df4['Status'].str.len() > 0) ]\n",
    "df4 = df4[(df4['Payer'].str.len() > 0) ]\n",
    "\n",
    "crr=df4\n",
    "\n",
    "#CONVERTIR FINES DE SEMANA A VIERNES\n",
    "\n",
    "crr['dia'] = pd.to_datetime(crr['Receipt_Date']).dt.dayofweek\n",
    "# Monday=0, Sunday=6\n",
    "#restar días\n",
    "\n",
    "def dias(df):\n",
    "    if df['dia'] == 6:\n",
    "        return (df['Receipt_Date']- pd.Timedelta(days = 2))\n",
    "    elif df['dia'] == 5:\n",
    "        return (df['Receipt_Date']- pd.Timedelta(days = 1))\n",
    "    elif df['dia'] == 0:\n",
    "        return (df['Receipt_Date']- pd.Timedelta(days = 3))    \n",
    "    else:\n",
    "        return df['Receipt_Date']\n",
    "    \n",
    "crr['Receipt Date_2'] = crr.apply(dias, axis=1) \n",
    "crr['Receipt_Date'] = pd.to_datetime(crr['Receipt_Date']).dt.date\n",
    "crr['Receipt Date_2'] = pd.to_datetime(crr['Receipt Date_2']).dt.date\n",
    "\n",
    "crr.sort_values(by=['Receipt Date_2'])\n",
    "crr['RD'] =crr['Receipt Date_2'].astype(str)\n",
    "date = crr['RD'].unique().tolist()\n",
    "\n",
    "#print(date)\n",
    "#crr.dtypes\n",
    "#print (crr)"
   ]
  },
  {
   "cell_type": "code",
   "execution_count": 6,
   "metadata": {
    "id": "xTNuJRlGUQC8"
   },
   "outputs": [
    {
     "name": "stdout",
     "output_type": "stream",
     "text": [
      "WARNING *** OLE2 inconsistency: SSCS size is 0 but SSAT size is non-zero\n"
     ]
    }
   ],
   "source": [
    "# 3) DIRECT BILL CASH REPORT\n",
    "\n",
    "file = \"DirectBillCashReport.xls\"\n",
    "\n",
    "try:\n",
    "    dfb = pd.read_excel(path + file, engine='xlrd',  dtype={'Policy Number': 'str'}).fillna('')\n",
    "\n",
    "except(FileNotFoundError):\n",
    "    print(\"The DirectBillCashReport.xls file is not in the folder\")\n",
    "\n",
    "df2 = pd.DataFrame(dfb)\n",
    "df3 = df2.iloc[10:, :]\n",
    "\n",
    "df3=df3.rename(columns={\"Unnamed: 1\": \"Receipt #\", \"Unnamed: 2\": \"Payer\", \"Unnamed: 4\":'Comment/Policy #', \"Unnamed: 5\": \"Receipt Type\", \"Unnamed: 6\": \"Receipt_Date\", \n",
    "                        \"Unnamed: 7\": \"Deposit Ref. #\", \"Unnamed: 8\":\"Receipt Amount\", \"Unnamed: 10\": \"Amount due Carrier\", \"Unnamed: 11\": \"Fees\", \"Unnamed: 13\": \"Payment To\", \n",
    "                        \"Unnamed: 15\": \"Check Ref. #\", \"Unnamed: 16\": \"Check Date\", \"Unnamed: 17\": \"Check Amount\", \"Unnamed: 18\": \"Balance\", \"Unnamed: 20\": \"Entered By\"})\n",
    "\n",
    "df4= df3[[\"Receipt #\", \"Payer\", 'Comment/Policy #', \"Receipt Type\", \"Receipt_Date\", \"Deposit Ref. #\", \"Receipt Amount\", \"Amount due Carrier\", \n",
    "          \"Fees\", \"Payment To\", \"Entered By\"]]\n",
    "\n",
    "df4 = df4[(df4['Payer'].str.len() > 0) ]\n",
    "#print(df4)\n",
    "#df4.dtypes\n",
    "dbc=df4\n",
    "\n",
    "#CONVERTIR FINES DE SEMANA A VIERNES\n",
    "\n",
    "dbc['dia'] = pd.to_datetime(dbc['Receipt_Date']).dt.dayofweek\n",
    "# Monday=0, Sunday=6\n",
    "#restar días\n",
    "\n",
    "def dias(df):\n",
    "    if df['dia'] == 6:\n",
    "        return (df['Receipt_Date']- pd.Timedelta(days = 2))\n",
    "    elif df['dia'] == 5:\n",
    "        return (df['Receipt_Date']- pd.Timedelta(days = 1))\n",
    "    elif df['dia'] == 0:\n",
    "        return (df['Receipt_Date']- pd.Timedelta(days = 3))\n",
    "    else:\n",
    "        return df['Receipt_Date']\n",
    "\n",
    "dbc['Receipt Date_2'] = dbc.apply(dias, axis=1)  \n",
    "\n",
    "dbc['Receipt_Date'] = pd.to_datetime(dbc['Receipt_Date']).dt.date\n",
    "dbc['Receipt Date_2'] = pd.to_datetime(dbc['Receipt Date_2']).dt.date\n",
    "dbc.sort_values(by=['Receipt Date_2'])\n",
    "dbc['RD'] =dbc['Receipt Date_2'].astype(str)\n",
    "\n"
   ]
  },
  {
   "cell_type": "code",
   "execution_count": 7,
   "metadata": {
    "id": "EHTCEN_-78MQ"
   },
   "outputs": [
    {
     "name": "stdout",
     "output_type": "stream",
     "text": [
      "WARNING *** OLE2 inconsistency: SSCS size is 0 but SSAT size is non-zero\n"
     ]
    }
   ],
   "source": [
    "# 4) Invoice Line Item Detail EZLynx\n",
    "\n",
    "file = \"InvoiceLineItemDetail.xls\"\n",
    "\n",
    "try:\n",
    "    dfi = pd.read_excel(path + file, engine='xlrd', dtype={'Policy Number': 'str'}).fillna('')\n",
    "\n",
    "except(FileNotFoundError):\n",
    "    print(\"The InvoiceLineItemDetail.xls file is not in the folder\")\n",
    "\n",
    "\n",
    "df2 = pd.DataFrame(dfi)\n",
    "#df2.columns = df2.iloc[4]\n",
    "df3 = df2.iloc[5:, :]\n",
    "\n",
    "df3=df3.rename(columns={\"Unnamed: 1\": \"Line Item Type\", \"Unnamed: 6\":'Payer', \"Unnamed: 14\": \"Invoice No.\", \"Unnamed: 17\": \"Receipt_Date\", \"Unnamed: 22\": \"Amount\"})\n",
    "df4= df3[[\"Line Item Type\", 'Payer', \"Invoice No.\", \"Receipt_Date\", \"Amount\"]]\n",
    "df4 = df4[(df4['Payer'].str.len() > 0) ]\n",
    "\n",
    "ili=df4\n",
    "\n",
    "#ili.dtypes\n",
    "#print(ili)\n",
    "\n",
    "#CONVERTIR FINES DE SEMANA A VIERNES\n",
    "\n",
    "ili['dia'] = pd.to_datetime(ili['Receipt_Date']).dt.dayofweek\n",
    "# Monday=0, Sunday=6\n",
    "#restar días\n",
    "\n",
    "def dias(df):\n",
    "    if df['dia'] == 6:\n",
    "        return (df['Receipt_Date']- pd.Timedelta(days = 2))\n",
    "    elif df['dia'] == 5:\n",
    "        return (df['Receipt_Date']- pd.Timedelta(days = 1))\n",
    "    elif df['dia'] == 0:\n",
    "        return (df['Receipt_Date']- pd.Timedelta(days = 3))\n",
    "    else:\n",
    "        return df['Receipt_Date']\n",
    "\n",
    "ili['Receipt Date_2'] = ili.apply(dias, axis=1)  \n",
    "\n",
    "ili['Receipt_Date'] = pd.to_datetime(ili['Receipt_Date']).dt.date\n",
    "ili['Receipt Date_2'] = pd.to_datetime(ili['Receipt Date_2']).dt.date\n",
    "ili.sort_values(by=['Receipt Date_2'])\n",
    "ili['RD'] =ili['Receipt Date_2'].astype(str)\n"
   ]
  },
  {
   "cell_type": "code",
   "execution_count": 8,
   "metadata": {
    "id": "PxkA0_eFT4A0"
   },
   "outputs": [],
   "source": [
    "#5) BLACK STONE\n",
    "#CREDIT\n",
    "\n",
    "file = f'BS Credit {fecha}.xlsx'\n",
    "\n",
    "try: \n",
    "    credit = pd.read_excel(path + file, engine='openpyxl', dtype={'Policy Number': 'str'}).fillna('')\n",
    "\n",
    "except(FileNotFoundError):\n",
    "    print(f\"BS Credit {fecha}.xlsx file is not in the folder\")\n",
    "\n",
    "#credit = pd.read_excel(f'BS Credit {d}.xlsx')\n",
    "credit['TYPE']=\"CreditOrEFT\"\n",
    "credit.dtypes\n",
    "\n",
    "BS= credit[['Ref #',\t'Cust ID',\t'Inv #',\t'Date',\t'Result',\t'Payment Type',\t'Account Type',\t'Account #',\t'Name',\t'TYPE',\t'Status',\t'Approval Code',\t'Auth Amt',\t'Capture Amt',\t'Tip Amt',\t'User']]"
   ]
  },
  {
   "cell_type": "code",
   "execution_count": 9,
   "metadata": {
    "id": "E0da_NzXZqXa"
   },
   "outputs": [],
   "source": [
    "#BLACK STONE\n",
    "#CHECK\n",
    "\n",
    "file = f'BS Check {fecha}.xlsx'\n",
    "\n",
    "try: \n",
    "    check = pd.read_excel(path + file, engine='openpyxl', dtype={'Policy Number': 'str'}).fillna('')\n",
    "\n",
    "except(FileNotFoundError):\n",
    "    print(f\"BS Check {fecha}.xlsx file is not in the folder\")\n",
    "\n",
    "check['TYPE']=\"Check\"\n",
    "\n",
    "check=check.rename(columns={'Username': \"User\", 'Amount':'Auth Amt'})\n",
    "\n",
    "#print(check)\n",
    "frames = [credit, check]\n",
    "BS = pd.concat(frames)\n"
   ]
  },
  {
   "cell_type": "code",
   "execution_count": 10,
   "metadata": {
    "id": "68lURRPJfh-B"
   },
   "outputs": [
    {
     "name": "stdout",
     "output_type": "stream",
     "text": [
      "WARNING *** OLE2 inconsistency: SSCS size is 0 but SSAT size is non-zero\n"
     ]
    }
   ],
   "source": [
    "#NEW BUSINESS FEES\n",
    "\n",
    "file = 'PolicyTransaction_Master.xlsx'\n",
    "\n",
    "try:\n",
    "    nb = pd.read_excel(path + file, engine='openpyxl', dtype={'Policy Number': 'str'}).fillna('')\n",
    "\n",
    "except(FileNotFoundError):\n",
    "    print(\"The PolicyTransaction_Master.xlsx file is not in the folder\")\n",
    "\n",
    "#nb = nb.loc[~((nb['Line of Business'].isin(['Genl Liability', 'Workers comp'])) | (nb['Transaction Type']=='Renewal')), :] \n",
    "\n",
    "nb['drop'] = np.where((nb['Line of Business'].isin(['Genl Liability', 'Workers comp'])) & (nb['Transaction Type']=='Renewal') ,'1',\n",
    "                      np.where((nb['Transaction Type']!='Renewal') ,'1','0'))\n",
    "\n",
    "nb = nb.loc[nb['drop']=='1' ]\n",
    "\n",
    "nb['Address'] = nb['Address - City'] + \" \" + nb['Address - Line 1']\n",
    "\n",
    "nb_= nb[['Address', 'Account Name']]\n",
    "\n",
    "#print(nb)\n",
    "\n",
    "nb_ad = pd.pivot_table(nb, values='Policy Number', index='Account Name', aggfunc='count', fill_value=0).fillna(0)\n",
    "nb_add = pd.DataFrame(nb_ad.to_records())\n",
    "#print(nb_add)\n",
    "\n",
    "#staate\n",
    "nb_add= pd.merge(nb_add, nb_, how=\"left\", on='Account Name').drop_duplicates(subset=['Account Name'], keep='last')\n",
    "\n",
    "file = 'InvoiceLineItemDetail Mes.xls'\n",
    "\n",
    "df2 = pd.read_excel(path + file, engine='xlrd', dtype={'Policy Number': 'str'}).fillna('')\n",
    "\n",
    "df2 = pd.DataFrame(df2)\n",
    "#df2.columns = df2.iloc[4]\n",
    "df3 = df2.iloc[5:, :]\n",
    "\n",
    "df3=df3.rename(columns={\"Unnamed: 1\": \"Line Item Type\", \"Unnamed: 6\":'Payer', \"Unnamed: 14\": \"Invoice No.\", \"Unnamed: 17\": \"Receipt_Date\", \"Unnamed: 22\": \"Amount\"})\n",
    "df4= df3[[\"Line Item Type\", 'Payer', \"Invoice No.\", \"Receipt_Date\", \"Amount\"]]\n",
    "df4 = df4[(df4['Payer'].str.len() > 0) ]\n",
    "\n",
    "ili_mes=df4\n",
    "\n",
    "ili_ad = pd.pivot_table(ili_mes, values='Amount', index='Payer', columns='Line Item Type', aggfunc='sum', margins=True, margins_name='Total').fillna(0)\n",
    "ili_add = pd.DataFrame(ili_ad.to_records()).fillna(False)\n",
    "\n",
    "\n",
    "comnt= crr[['Payer', 'Comment']].fillna('')\n",
    "\n",
    "#comnt['mar']= 'x'\n",
    "#ili_add= pd.merge(ili_add, comnt, how=\"left\", on='Payer')\n",
    "\n",
    "for i in ili_add['Payer'].to_list():\n",
    "    comnt.loc[comnt['Payer'].astype(str).str.contains(i), 'Payer' ] = i\n",
    "\n",
    "ili_add= pd.merge(ili_add, comnt, how=\"left\", on='Payer')\n",
    "\n",
    "#print(ili_add)\n",
    "\n",
    "for i in ili_add['Payer'].to_list():\n",
    "    nb_add.loc[nb_add['Account Name'].astype(str).str.contains(i), 'Payer' ] = i\n",
    "\n",
    "nb_fe= pd.merge(nb_add, ili_add, how=\"left\", on='Payer')\n",
    "\n",
    "id_nb= nb [['Applicant ID',\t'Account Name',\t'Assigned Producer']]\n",
    "\n",
    "#print(id_nb)\n",
    "\n",
    "nb_fee= pd.merge(nb_fe, id_nb, how=\"left\", on='Account Name').drop_duplicates(subset=['Account Name'], keep='last')\n"
   ]
  },
  {
   "cell_type": "code",
   "execution_count": 11,
   "metadata": {
    "id": "50qq1TqSN_pW"
   },
   "outputs": [
    {
     "name": "stderr",
     "output_type": "stream",
     "text": [
      "C:\\Users\\56959\\AppData\\Local\\Temp\\ipykernel_9208\\3694379273.py:6: FutureWarning: The frame.append method is deprecated and will be removed from pandas in a future version. Use pandas.concat instead.\n",
      "  nb_fee_ad= pd.DataFrame(nb_fee_ad.to_records()).append(nb_fee_ad.sum().rename('Total')).fillna(0)\n"
     ]
    }
   ],
   "source": [
    "nb_fee_1 = pd.pivot_table(nb_fee, values='Total', index='Assigned Producer', aggfunc='sum' ).fillna(0)\n",
    "nb_fee_2 = pd.pivot_table(nb, values='Policy Number', index='Assigned Producer', aggfunc='count').fillna(0)\n",
    "\n",
    "nb_fee_ad= nb_fee_2.join(nb_fee_1)\n",
    "\n",
    "nb_fee_ad= pd.DataFrame(nb_fee_ad.to_records()).append(nb_fee_ad.sum().rename('Total')).fillna(0)\n",
    "\n",
    "#print(nb_fee_ad)  "
   ]
  },
  {
   "cell_type": "code",
   "execution_count": 12,
   "metadata": {
    "id": "Qva7BBtWnREv"
   },
   "outputs": [],
   "source": [
    "BS= BS[['Ref #',\t'Cust ID',\t'Inv #',\t'Date',\t'Result',\t'Payment Type',\t'Account Type',\t'Account #',\t'Name',\t'TYPE',\t'Status',\t'Approval Code',\t'Auth Amt',\t'Capture Amt',\t'Tip Amt',\t'User']]\n",
    "\n",
    "BS.drop(index=BS[BS['Ref #'] == 'Ref #'].index, inplace=True)\n",
    "\n",
    "#print(BS)\n",
    "#BS.dtypes"
   ]
  },
  {
   "cell_type": "code",
   "execution_count": 13,
   "metadata": {
    "id": "nz93_gQEtwCG"
   },
   "outputs": [],
   "source": [
    "#CONVERTIR FINES DE SEMANA A VIERNES\n",
    "\n",
    "BS['dia'] = pd.to_datetime(BS['Date']).dt.dayofweek\n",
    "# Monday=0, Sunday=6\n",
    "#restar días\n",
    "\n",
    "def dias(df):\n",
    "    if df['dia'] == 6:\n",
    "        return (df['Date']- pd.Timedelta(days = 2))\n",
    "    elif df['dia'] == 5:\n",
    "        return (df['Date']- pd.Timedelta(days = 1))\n",
    "    elif df['dia'] == 0:\n",
    "        return (df['Date']- pd.Timedelta(days = 3))\n",
    "    else:\n",
    "        return df['Date']\n",
    "\n",
    "BS['Date_2'] = BS.apply(dias, axis=1)  \n",
    "BS['Date'] = pd.to_datetime(BS['Date']).dt.date\n",
    "BS['Date_2'] = pd.to_datetime(BS['Date_2']).dt.date\n",
    "BS.sort_values(by=['Date_2'])\n",
    "BS['RD'] =BS['Date_2'].astype(str)\n",
    "BS=BS.rename(columns={\"Date_2\": \"Receipt Date_2\"})"
   ]
  },
  {
   "cell_type": "code",
   "execution_count": 14,
   "metadata": {},
   "outputs": [],
   "source": [
    "# crr"
   ]
  },
  {
   "cell_type": "code",
   "execution_count": 15,
   "metadata": {
    "id": "DUZxc2NkuT8V"
   },
   "outputs": [],
   "source": [
    "uniques = crr.RD.unique()\n",
    "\n",
    "for i in uniques:\n",
    "    with pd.ExcelWriter(f'{path}Daily closing {i}.xlsx') as writer:\n",
    "    ######## CASH RECEIPTS REPORT ###############\n",
    "        crr[crr.RD == i].to_excel(writer, index=None, sheet_name='CRR')\n",
    "\n",
    "    ######## DIRECT BILL CASH REPORT #############\n",
    "        dbc[dbc.RD == i].to_excel(writer, index=None, sheet_name='DBC')\n",
    "\n",
    "    ######## INLINE INVOICE #################\n",
    "        ili[ili.RD == i].to_excel(writer, index=None, sheet_name='ILI')\n",
    "\n",
    "    ######## BLACK STONE ###############\n",
    "        BS[BS.RD == i].to_excel(writer, index=None, sheet_name='BS') \n",
    "\n",
    "    ######### RESUMEN FORMA DE PAGO###############\n",
    "        crr2=crr[crr.RD == i].pivot_table(index='Entered By', columns=['TYPE'], values= ['Receipt Amount'], aggfunc='sum', margins=True, margins_name='Total').fillna(0)\n",
    "        crr3 = pd.DataFrame(crr2.to_records())\n",
    "        crr3.to_excel(writer, index=None, sheet_name='CRR resumen')\n",
    "\n",
    "    ######### RESUMEN FORMA DE PAGO###############\n",
    "        BS1=BS[BS.RD == i].reset_index().pivot_table(values='Auth Amt', index='User', columns='TYPE', aggfunc='sum').fillna(0)\n",
    "        BS_1 = pd.DataFrame(BS1.to_records())\n",
    "        BS_1.to_excel(writer, index=None, sheet_name='BS resumen')\n",
    "\n",
    "    ######### RESUMEN NEW BUSINESS ###############\n",
    "    #BS1=BS[BS.RD == i].reset_index().pivot_table(values='Auth Amt', index='User', columns='TYPE', aggfunc='sum').fillna(0)\n",
    "    #BS_1 = pd.DataFrame(BS1.to_records())\n",
    "        nb.to_excel(writer, index=None, sheet_name='New Business')\n",
    "        nb_fee.to_excel(writer, index=None, sheet_name='NB FEES')\n",
    "        nb_fee_ad.to_excel(writer, index=None, sheet_name='Fees resumen')\n"
   ]
  },
  {
   "cell_type": "code",
   "execution_count": 16,
   "metadata": {},
   "outputs": [],
   "source": [
    "# eliminar columnas de varias pestañas\n",
    "\n",
    "nombre_archivo = f'{path}Daily closing {i}.xlsx'\n",
    "\n",
    "columnas_a_eliminar = ['dia', 'Receipt Date_2', 'RD']\n",
    "\n",
    "xls = pd.read_excel(nombre_archivo, sheet_name=None)\n",
    "\n",
    "for sheet_name, df in xls.items():\n",
    "    if sheet_name in ['CRR', 'DBC', 'ILI', 'BS']:\n",
    "        xls[sheet_name] = df.drop(columns=columnas_a_eliminar)\n",
    "\n",
    "nombre_archivo_actualizado = f'{path}Daily closing {i}.xlsx'\n",
    "with pd.ExcelWriter(nombre_archivo_actualizado, engine='xlsxwriter') as writer:\n",
    "    for sheet_name, df in xls.items():\n",
    "        df.to_excel(writer, sheet_name=sheet_name, index=False)\n"
   ]
  },
  {
   "cell_type": "code",
   "execution_count": 17,
   "metadata": {},
   "outputs": [],
   "source": [
    "#Autoajustar columnas de varias pestañas\n",
    "\n",
    "workbook = load_workbook(filename=nombre_archivo)\n",
    "\n",
    "# Iterar a través de todas las hojas en el libro de trabajo\n",
    "for sheet_name in workbook.sheetnames:\n",
    "    sheet = workbook[sheet_name]\n",
    "\n",
    "    # Autoajustar todas las columnas en la hoja de trabajo\n",
    "    for column_cells in sheet.columns:\n",
    "        length = max(len(str(cell.value)) for cell in column_cells)\n",
    "        adjusted_width = (length + 2) * 1.2\n",
    "        sheet.column_dimensions[column_cells[0].column_letter].width = adjusted_width\n",
    "\n",
    "# Guardar los cambios en el archivo Excel\n",
    "workbook.save(filename=nombre_archivo)\n",
    "\n",
    "finalizar = \" ----- Script Finished -----  \" + \"The \" + f\"Daily closing {i}.xlsx\" + \" report was generated\""
   ]
  },
  {
   "cell_type": "code",
   "execution_count": 18,
   "metadata": {
    "id": "nlfy0ChJ8Itq"
   },
   "outputs": [
    {
     "name": "stdout",
     "output_type": "stream",
     "text": [
      " ----- Script Finished -----  The Daily closing 2023-08-01.xlsx report was generated\n"
     ]
    }
   ],
   "source": [
    "print(finalizar)"
   ]
  }
 ],
 "metadata": {
  "colab": {
   "provenance": []
  },
  "kernelspec": {
   "display_name": "Python 3 (ipykernel)",
   "language": "python",
   "name": "python3"
  },
  "language_info": {
   "codemirror_mode": {
    "name": "ipython",
    "version": 3
   },
   "file_extension": ".py",
   "mimetype": "text/x-python",
   "name": "python",
   "nbconvert_exporter": "python",
   "pygments_lexer": "ipython3",
   "version": "3.10.9"
  }
 },
 "nbformat": 4,
 "nbformat_minor": 1
}

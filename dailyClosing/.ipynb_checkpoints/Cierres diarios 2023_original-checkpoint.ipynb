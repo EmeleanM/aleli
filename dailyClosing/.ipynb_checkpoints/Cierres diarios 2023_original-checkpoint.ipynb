{
 "cells": [
  {
   "cell_type": "code",
   "execution_count": 1,
   "metadata": {
    "colab": {
     "base_uri": "https://localhost:8080/",
     "height": 397
    },
    "id": "8m44J_a2YlU9",
    "outputId": "e060d96a-6c40-43d7-e5cc-22e9acf43721"
   },
   "outputs": [],
   "source": [
    "import pandas as pd\n",
    "import numpy as np\n",
    "#pd.set_option('precision', 2)\n",
    "\n",
    "from datetime import timedelta\n",
    "from datetime import datetime\n",
    "import dateutil.parser as parser\n",
    "#import dateparser\n",
    "from openpyxl import Workbook\n",
    "from openpyxl import load_workbook\n",
    "#!pip install openpyxl --upgrade\n",
    "import xlrd"
   ]
  },
  {
   "cell_type": "code",
   "execution_count": 2,
   "metadata": {
    "id": "2Mf8Km5d-Wcy"
   },
   "outputs": [],
   "source": [
    "#############################################################\n",
    "\n",
    "######### Agrega la fecha del dia a procesar\n",
    "d= '8123'   \n",
    "u= '56959'"
   ]
  },
  {
   "cell_type": "code",
   "execution_count": 3,
   "metadata": {
    "id": "IRhhIgPdgUPe"
   },
   "outputs": [],
   "source": [
    "# set the directory path\n",
    "path = f'C:/Users/{u}/Downloads/Cierre diario 2023/Ago/{d}/'  "
   ]
  },
  {
   "cell_type": "code",
   "execution_count": 4,
   "metadata": {
    "id": "k25KrSD7xDBh"
   },
   "outputs": [
    {
     "name": "stdout",
     "output_type": "stream",
     "text": [
      "WARNING *** OLE2 inconsistency: SSCS size is 0 but SSAT size is non-zero\n"
     ]
    }
   ],
   "source": [
    "# 2) CASH RECEIPTS REPORT\n",
    "file = \"CashReceiptsReport.xls\"\n",
    "\n",
    "#ref_workbook= openpyxl.reader.excel.load_workbook(path + file)\n",
    "\n",
    "#wb = load_workbook(r'C:\\Users\\Leja\\Downloads\\Cierre diario 2023\\Junio\\6223\\CashReceiptsReport.xls')\n",
    "\n",
    "dfc = pd.read_excel(path + file, engine='xlrd',  dtype={'Policy Number': 'str'}).fillna('')\n",
    "\n",
    "#print(dfc)"
   ]
  },
  {
   "cell_type": "code",
   "execution_count": 5,
   "metadata": {
    "id": "lRRqsl0uxDMX"
   },
   "outputs": [
    {
     "name": "stderr",
     "output_type": "stream",
     "text": [
      "C:\\Users\\Leja\\AppData\\Local\\Temp/ipykernel_10896/623642572.py:10: SettingWithCopyWarning: \n",
      "A value is trying to be set on a copy of a slice from a DataFrame.\n",
      "Try using .loc[row_indexer,col_indexer] = value instead\n",
      "\n",
      "See the caveats in the documentation: https://pandas.pydata.org/pandas-docs/stable/user_guide/indexing.html#returning-a-view-versus-a-copy\n",
      "  df4['TYPE'] = df4['TYPE'].replace('', np.nan).ffill() #rellena filas siguientes con último dato\n"
     ]
    }
   ],
   "source": [
    "df2 = dfc.iloc[4:, :]\n",
    "#print(df2)\n",
    "#df2.dtypes\n",
    "\n",
    "df3=df2.rename(columns={\"Cash Receipts\": \"TYPE\",  \"Unnamed: 1\": \"Payer\", \"Unnamed: 4\": \"Receipt #\", \"Unnamed: 6\": \"Check #\", \n",
    "                        \"Unnamed: 8\": \"Comment\", \"Unnamed: 10\": \"Status\", \n",
    "                        \"Unnamed: 12\": \"Receipt Date\", \"Unnamed: 14\": \"Receipt Amount\", \"Unnamed: 16\":\"Entered By\"})\n",
    "\n",
    "df4= df3[[\"TYPE\", \"Payer\", \"Receipt #\", \"Check #\", \"Comment\", \"Status\", \"Receipt Date\", \"Receipt Amount\", \"Entered By\"]]\n",
    "df4['TYPE'] = df4['TYPE'].replace('', np.nan).ffill() #rellena filas siguientes con último dato\n",
    "df4 = df4[(df4['Status'].str.len() > 0) ]\n",
    "df4 = df4[(df4['Payer'].str.len() > 0) ]\n",
    "\n",
    "crr=df4\n",
    "\n",
    "#CONVERTIR FINES DE SEMANA A VIERNES\n",
    "\n",
    "crr['dia'] = pd.to_datetime(crr['Receipt Date']).dt.dayofweek\n",
    "# Monday=0, Sunday=6\n",
    "#restar días\n",
    "\n",
    "def dias(df):\n",
    "    if df['dia'] == 6:\n",
    "        return (df['Receipt Date']- pd.Timedelta(days = 2))\n",
    "    elif df['dia'] == 5:\n",
    "        return (df['Receipt Date']- pd.Timedelta(days = 1))\n",
    "    elif df['dia'] == 0:\n",
    "        return (df['Receipt Date']- pd.Timedelta(days = 3))    \n",
    "    else:\n",
    "        return df['Receipt Date']\n",
    "\n",
    "crr['Receipt Date_2'] = crr.apply(dias, axis=1) "
   ]
  },
  {
   "cell_type": "code",
   "execution_count": 6,
   "metadata": {},
   "outputs": [],
   "source": [
    "#print(crr)"
   ]
  },
  {
   "cell_type": "code",
   "execution_count": 7,
   "metadata": {
    "id": "ysInFXcx0Brt"
   },
   "outputs": [
    {
     "name": "stdout",
     "output_type": "stream",
     "text": [
      "            TYPE                            Payer Receipt # Check #  \\\n",
      "7           Cash              Juan Martin Mercado    030035           \n",
      "11          Cash  KAREN VANESSA HERNANDEZ VASQUEZ    030026           \n",
      "15          Cash   Olbin Adonay Rodriguez Saldana    030021           \n",
      "19          Cash           Rebecca Benitez mendez    030050           \n",
      "23          Cash              Rene Velasquez Ruiz    030031           \n",
      "27          Cash    Sulmy Iveth Aguirre Contreras    030049           \n",
      "31          Cash        Yennifer Calderon Ventura    030048           \n",
      "38   CreditOrEFT                   Angela Becerra    030044           \n",
      "42   CreditOrEFT                       Berta Cruz    030046           \n",
      "46   CreditOrEFT                      DAVID PAVON    030037           \n",
      "50   CreditOrEFT                    Doris Ramirez    030041           \n",
      "54   CreditOrEFT             Edgar Ibarra Vergara    030029           \n",
      "58   CreditOrEFT        Eva Elaine Da Costa Neves    030030           \n",
      "62   CreditOrEFT        FABIOLA LARRAZABAL CHACON    030028           \n",
      "66   CreditOrEFT                 G&Q SERVICES LLC    030039           \n",
      "70   CreditOrEFT              General Designs LLC    030036           \n",
      "74   CreditOrEFT        International Auto Repair    030040           \n",
      "78   CreditOrEFT       IRAEL ISAIAS RAMOS CARRETO    030042           \n",
      "82   CreditOrEFT             Jacqueline Rodriguez    030024           \n",
      "86   CreditOrEFT           Janeiri Robles Rosales    030032           \n",
      "90   CreditOrEFT          Jc Quality Cleaning Inc    030023           \n",
      "94   CreditOrEFT      JD ELECTRICAL SERVICES LLC     030038           \n",
      "98   CreditOrEFT                Jorge Castellanos    030025           \n",
      "102  CreditOrEFT                      Kevin Simms    030034           \n",
      "106  CreditOrEFT              Luxury Cleaning LLC    030033           \n",
      "111  CreditOrEFT            Maritza Reyes Baquero    030047           \n",
      "115  CreditOrEFT              R & E Flooring Corp    030022           \n",
      "119  CreditOrEFT             Rafael Silva-Gimenez    030043           \n",
      "123  CreditOrEFT                Victor Hugo Dueri    030027           \n",
      "127  CreditOrEFT                 Yoensy Maldonado    030045           \n",
      "\n",
      "                                               Comment     Status  \\\n",
      "7                                               zelle   Finalized   \n",
      "11                                                      Finalized   \n",
      "15                                              ZELLE   Finalized   \n",
      "19                                              ZELLE   Finalized   \n",
      "23                                              ZELLE   Finalized   \n",
      "27                                               ZELLE  Finalized   \n",
      "31                                               ZELLE  Finalized   \n",
      "38                                     AUTH/TKT 05439D  Finalized   \n",
      "42                                     AUTH/TKT 012802  Finalized   \n",
      "46                                     AuthCode 050428  Finalized   \n",
      "50                                      AuthCode160753  Finalized   \n",
      "54                                      AuthCode002650  Finalized   \n",
      "58                                      AuthCode004513  Finalized   \n",
      "62                                     AUTH/TKT 03902B  Finalized   \n",
      "66                            AuthCodeAUTH NUM 744-696  Finalized   \n",
      "70                                     AuthCode 133806  Finalized   \n",
      "74                                     AuthCode 068006  Finalized   \n",
      "78                                           122973450  Finalized   \n",
      "82                                     AUTH/TKT 078919  Finalized   \n",
      "86                                     AuthCode 182682  Finalized   \n",
      "90                            AGENCY FEE RENEWAL AUTO   Submitted   \n",
      "94   AUTH/TKT 185726 POLLUTION LIABILITY , AGENCY F...  Finalized   \n",
      "98                                     AuthCode 111088  Finalized   \n",
      "102                                    AUTH/TKT 040746  Finalized   \n",
      "106                     AuthCode247888 - GL AND WC FEE  Finalized   \n",
      "111                                    AuthCode 161411  Finalized   \n",
      "115                                     AuthCode005509  Finalized   \n",
      "119                                    AUTH/TKT 181371  Finalized   \n",
      "123        VIP Waiver Authorized by Alejandro Valbuena  Finalized   \n",
      "127     No fee Charged because it is a 5th car policy   Finalized   \n",
      "\n",
      "    Receipt Date Receipt Amount                          Entered By  dia  \\\n",
      "7     2023-06-02         267.17                   Giselle Cervantes    4   \n",
      "11    2023-06-02            191                     Elisabet Romero    4   \n",
      "15    2023-06-02         296.18                   Giselle Cervantes    4   \n",
      "19    2023-06-02           96.1                   Giselle Cervantes    4   \n",
      "23    2023-06-02         142.89                   Giselle Cervantes    4   \n",
      "27    2023-06-02          88.06                   Giselle Cervantes    4   \n",
      "31    2023-06-02          75.54                   Giselle Cervantes    4   \n",
      "38    2023-06-02             50                          Luisa Lora    4   \n",
      "42    2023-06-02             25                   Giselle Cervantes    4   \n",
      "46    2023-06-02             50                         Karen Karen    4   \n",
      "50    2023-06-02             25                      Genesis Garcia    4   \n",
      "54    2023-06-02             25                    Yadiris DeLaRosa    4   \n",
      "58    2023-06-02             30                     Alejandro Freay    4   \n",
      "62    2023-06-02             50                          Luisa Lora    4   \n",
      "66    2023-06-02           2740                   Daniela Rodriquez    4   \n",
      "70    2023-06-02            250                    andrea frontdesk    4   \n",
      "74    2023-06-02            150                    andrea frontdesk    4   \n",
      "78    2023-06-02             50                           Adriana P    4   \n",
      "82    2023-06-02             25                   Giselle Cervantes    4   \n",
      "86    2023-06-02             50              valeria  Renewal Team     4   \n",
      "90    2023-06-02             50                     Renata helpdesk    4   \n",
      "94    2023-06-02           2458                       Rosana Caruso    4   \n",
      "98    2023-06-02             50              valeria  Renewal Team     4   \n",
      "102   2023-06-02             30                            Brenda B    4   \n",
      "106   2023-06-02            200  Joe and Carlos Assistant Principal    4   \n",
      "111   2023-06-02             25                         Karen Karen    4   \n",
      "115   2023-06-02             30                   Daniela Rodriquez    4   \n",
      "119   2023-06-02             30                           Tim Jacob    4   \n",
      "123   2023-06-02              0                        Victor Dueri    4   \n",
      "127   2023-06-02              0                         Karen Karen    4   \n",
      "\n",
      "    Receipt Date_2          RD  \n",
      "7       2023-06-02  2023-06-02  \n",
      "11      2023-06-02  2023-06-02  \n",
      "15      2023-06-02  2023-06-02  \n",
      "19      2023-06-02  2023-06-02  \n",
      "23      2023-06-02  2023-06-02  \n",
      "27      2023-06-02  2023-06-02  \n",
      "31      2023-06-02  2023-06-02  \n",
      "38      2023-06-02  2023-06-02  \n",
      "42      2023-06-02  2023-06-02  \n",
      "46      2023-06-02  2023-06-02  \n",
      "50      2023-06-02  2023-06-02  \n",
      "54      2023-06-02  2023-06-02  \n",
      "58      2023-06-02  2023-06-02  \n",
      "62      2023-06-02  2023-06-02  \n",
      "66      2023-06-02  2023-06-02  \n",
      "70      2023-06-02  2023-06-02  \n",
      "74      2023-06-02  2023-06-02  \n",
      "78      2023-06-02  2023-06-02  \n",
      "82      2023-06-02  2023-06-02  \n",
      "86      2023-06-02  2023-06-02  \n",
      "90      2023-06-02  2023-06-02  \n",
      "94      2023-06-02  2023-06-02  \n",
      "98      2023-06-02  2023-06-02  \n",
      "102     2023-06-02  2023-06-02  \n",
      "106     2023-06-02  2023-06-02  \n",
      "111     2023-06-02  2023-06-02  \n",
      "115     2023-06-02  2023-06-02  \n",
      "119     2023-06-02  2023-06-02  \n",
      "123     2023-06-02  2023-06-02  \n",
      "127     2023-06-02  2023-06-02  \n"
     ]
    }
   ],
   "source": [
    "crr['Receipt Date'] = pd.to_datetime(crr['Receipt Date']).dt.date\n",
    "crr['Receipt Date_2'] = pd.to_datetime(crr['Receipt Date_2']).dt.date\n",
    "\n",
    "crr.sort_values(by=['Receipt Date_2'])\n",
    "crr['RD'] =crr['Receipt Date_2'].astype(str)\n",
    "date = crr['RD'].unique().tolist()\n",
    "\n",
    "#print(date)\n",
    "#crr.dtypes\n",
    "print (crr)"
   ]
  },
  {
   "cell_type": "code",
   "execution_count": 8,
   "metadata": {
    "id": "CAQ8hb5gktL7"
   },
   "outputs": [
    {
     "name": "stdout",
     "output_type": "stream",
     "text": [
      "WARNING *** file size (18474) not 512 + multiple of sector size (512)\n",
      "WARNING *** OLE2 inconsistency: SSCS size is 0 but SSAT size is non-zero\n"
     ]
    }
   ],
   "source": [
    "# 3) DIRECT BILL CASH REPORT\n",
    "\n",
    "file = \"DirectBillCashReport.xls\"\n",
    "\n",
    "dfb = pd.read_excel(path + file, engine='xlrd',  dtype={'Policy Number': 'str'}).fillna('')\n",
    "\n",
    "\n",
    "#dfb = pd.read_excel(\"DirectBillCashReport.xls\")"
   ]
  },
  {
   "cell_type": "code",
   "execution_count": 9,
   "metadata": {
    "id": "xTNuJRlGUQC8"
   },
   "outputs": [],
   "source": [
    "df2 = pd.DataFrame(dfb)\n",
    "df3 = df2.iloc[10:, :]\n",
    "\n",
    "df3=df3.rename(columns={\"Unnamed: 1\": \"Receipt #\", \"Unnamed: 2\": \"Payer\", \"Unnamed: 4\":'Comment/Policy #', \"Unnamed: 5\": \"Receipt Type\", \"Unnamed: 6\": \"Receipt Date\", \n",
    "                        \"Unnamed: 7\": \"Deposit Ref. #\", \"Unnamed: 8\":\"Receipt Amount\", \"Unnamed: 10\": \"Amount due Carrier\", \"Unnamed: 11\": \"Fees\", \"Unnamed: 13\": \"Payment To\", \n",
    "                        \"Unnamed: 15\": \"Check Ref. #\", \"Unnamed: 16\": \"Check Date\", \"Unnamed: 17\": \"Check Amount\", \"Unnamed: 18\": \"Balance\", \"Unnamed: 20\": \"Entered By\"})\n",
    "\n",
    "df4= df3[[\"Receipt #\", \"Payer\", 'Comment/Policy #', \"Receipt Type\", \"Receipt Date\", \"Deposit Ref. #\", \"Receipt Amount\", \"Amount due Carrier\", \n",
    "          \"Fees\", \"Payment To\", \"Entered By\"]]\n",
    "\n",
    "df4 = df4[(df4['Payer'].str.len() > 0) ]\n",
    "#print(df4)\n",
    "#df4.dtypes\n",
    "dbc=df4\n",
    "\n",
    "#CONVERTIR FINES DE SEMANA A VIERNES\n",
    "\n",
    "dbc['dia'] = pd.to_datetime(dbc['Receipt Date']).dt.dayofweek\n",
    "# Monday=0, Sunday=6\n",
    "#restar días\n",
    "\n",
    "def dias(df):\n",
    "    if df['dia'] == 6:\n",
    "        return (df['Receipt Date']- pd.Timedelta(days = 2))\n",
    "    elif df['dia'] == 5:\n",
    "        return (df['Receipt Date']- pd.Timedelta(days = 1))\n",
    "    elif df['dia'] == 0:\n",
    "        return (df['Receipt Date']- pd.Timedelta(days = 3))\n",
    "    else:\n",
    "        return df['Receipt Date']\n",
    "\n",
    "dbc['Receipt Date_2'] = dbc.apply(dias, axis=1)  \n",
    "\n",
    "dbc['Receipt Date'] = pd.to_datetime(dbc['Receipt Date']).dt.date\n",
    "dbc['Receipt Date_2'] = pd.to_datetime(dbc['Receipt Date_2']).dt.date\n",
    "dbc.sort_values(by=['Receipt Date_2'])\n",
    "dbc['RD'] =dbc['Receipt Date_2'].astype(str)"
   ]
  },
  {
   "cell_type": "code",
   "execution_count": 10,
   "metadata": {
    "id": "jjCm60JqXQrt"
   },
   "outputs": [
    {
     "name": "stdout",
     "output_type": "stream",
     "text": [
      "WARNING *** file size (19811) not 512 + multiple of sector size (512)\n",
      "WARNING *** OLE2 inconsistency: SSCS size is 0 but SSAT size is non-zero\n"
     ]
    }
   ],
   "source": [
    "# 4) Invoice Line Item Detail EZLynx\n",
    "#dfi = pd.read_excel(\"InvoiceLineItemDetail.xlsx\")\n",
    "\n",
    "file = \"InvoiceLineItemDetail.xls\"\n",
    "\n",
    "dfi = pd.read_excel(path + file, engine='xlrd', dtype={'Policy Number': 'str'}).fillna('')\n",
    "\n"
   ]
  },
  {
   "cell_type": "code",
   "execution_count": 11,
   "metadata": {
    "id": "EHTCEN_-78MQ"
   },
   "outputs": [],
   "source": [
    "df2 = pd.DataFrame(dfi)\n",
    "#df2.columns = df2.iloc[4]\n",
    "df3 = df2.iloc[5:, :]\n",
    "\n",
    "df3=df3.rename(columns={\"Unnamed: 1\": \"Line Item Type\", \"Unnamed: 6\":'Payer', \"Unnamed: 14\": \"Invoice No.\", \"Unnamed: 17\": \"Receipt Date\", \"Unnamed: 22\": \"Amount\"})\n",
    "df4= df3[[\"Line Item Type\", 'Payer', \"Invoice No.\", \"Receipt Date\", \"Amount\"]]\n",
    "df4 = df4[(df4['Payer'].str.len() > 0) ]\n",
    "\n",
    "ili=df4\n",
    "\n",
    "#ili.dtypes\n",
    "#print(ili)\n",
    "\n",
    "#CONVERTIR FINES DE SEMANA A VIERNES\n",
    "\n",
    "ili['dia'] = pd.to_datetime(ili['Receipt Date']).dt.dayofweek\n",
    "# Monday=0, Sunday=6\n",
    "#restar días\n",
    "\n",
    "def dias(df):\n",
    "    if df['dia'] == 6:\n",
    "        return (df['Receipt Date']- pd.Timedelta(days = 2))\n",
    "    elif df['dia'] == 5:\n",
    "        return (df['Receipt Date']- pd.Timedelta(days = 1))\n",
    "    elif df['dia'] == 0:\n",
    "        return (df['Receipt Date']- pd.Timedelta(days = 3))\n",
    "    else:\n",
    "        return df['Receipt Date']\n",
    "\n",
    "ili['Receipt Date_2'] = ili.apply(dias, axis=1)  \n",
    "\n",
    "ili['Receipt Date'] = pd.to_datetime(ili['Receipt Date']).dt.date\n",
    "ili['Receipt Date_2'] = pd.to_datetime(ili['Receipt Date_2']).dt.date\n",
    "ili.sort_values(by=['Receipt Date_2'])\n",
    "ili['RD'] =ili['Receipt Date_2'].astype(str)"
   ]
  },
  {
   "cell_type": "code",
   "execution_count": 12,
   "metadata": {
    "id": "PxkA0_eFT4A0"
   },
   "outputs": [],
   "source": [
    "#5) BLACK STONE\n",
    "#CREDIT\n",
    "\n",
    "file = f'BS Credit {d}.xlsx'\n",
    "\n",
    "credit = pd.read_excel(path + file, engine='openpyxl', dtype={'Policy Number': 'str'}).fillna('')\n",
    "\n",
    "#credit = pd.read_excel(f'BS Credit {d}.xlsx')\n",
    "credit['TYPE']=\"CreditOrEFT\"\n",
    "credit.dtypes\n",
    "\n",
    "BS= credit[['Ref #',\t'Cust ID',\t'Inv #',\t'Date',\t'Result',\t'Payment Type',\t'Account Type',\t'Account #',\t'Name',\t'TYPE',\t'Status',\t'Approval Code',\t'Auth Amt',\t'Capture Amt',\t'Tip Amt',\t'User']]"
   ]
  },
  {
   "cell_type": "code",
   "execution_count": 13,
   "metadata": {
    "id": "E0da_NzXZqXa"
   },
   "outputs": [],
   "source": [
    "#BLACK STONE\n",
    "#CHECK\n",
    "\n",
    "file = f'BS Check {d}.xlsx'\n",
    "\n",
    "check = pd.read_excel(path + file, engine='openpyxl', dtype={'Policy Number': 'str'}).fillna('')\n",
    "\n",
    "check['TYPE']=\"Check\"\n",
    "\n",
    "check=check.rename(columns={'Username': \"User\", 'Amount':'Auth Amt'})\n",
    "\n",
    "#print(check)\n",
    "frames = [credit, check]\n",
    "BS = pd.concat(frames)\n"
   ]
  },
  {
   "cell_type": "code",
   "execution_count": 14,
   "metadata": {
    "id": "68lURRPJfh-B"
   },
   "outputs": [
    {
     "ename": "KeyError",
     "evalue": "'Address - City'",
     "output_type": "error",
     "traceback": [
      "\u001b[1;31m---------------------------------------------------------------------------\u001b[0m",
      "\u001b[1;31mKeyError\u001b[0m                                  Traceback (most recent call last)",
      "\u001b[1;32m~\\anaconda3\\lib\\site-packages\\pandas\\core\\indexes\\base.py\u001b[0m in \u001b[0;36mget_loc\u001b[1;34m(self, key, method, tolerance)\u001b[0m\n\u001b[0;32m   3360\u001b[0m             \u001b[1;32mtry\u001b[0m\u001b[1;33m:\u001b[0m\u001b[1;33m\u001b[0m\u001b[1;33m\u001b[0m\u001b[0m\n\u001b[1;32m-> 3361\u001b[1;33m                 \u001b[1;32mreturn\u001b[0m \u001b[0mself\u001b[0m\u001b[1;33m.\u001b[0m\u001b[0m_engine\u001b[0m\u001b[1;33m.\u001b[0m\u001b[0mget_loc\u001b[0m\u001b[1;33m(\u001b[0m\u001b[0mcasted_key\u001b[0m\u001b[1;33m)\u001b[0m\u001b[1;33m\u001b[0m\u001b[1;33m\u001b[0m\u001b[0m\n\u001b[0m\u001b[0;32m   3362\u001b[0m             \u001b[1;32mexcept\u001b[0m \u001b[0mKeyError\u001b[0m \u001b[1;32mas\u001b[0m \u001b[0merr\u001b[0m\u001b[1;33m:\u001b[0m\u001b[1;33m\u001b[0m\u001b[1;33m\u001b[0m\u001b[0m\n",
      "\u001b[1;32m~\\anaconda3\\lib\\site-packages\\pandas\\_libs\\index.pyx\u001b[0m in \u001b[0;36mpandas._libs.index.IndexEngine.get_loc\u001b[1;34m()\u001b[0m\n",
      "\u001b[1;32m~\\anaconda3\\lib\\site-packages\\pandas\\_libs\\index.pyx\u001b[0m in \u001b[0;36mpandas._libs.index.IndexEngine.get_loc\u001b[1;34m()\u001b[0m\n",
      "\u001b[1;32mpandas\\_libs\\hashtable_class_helper.pxi\u001b[0m in \u001b[0;36mpandas._libs.hashtable.PyObjectHashTable.get_item\u001b[1;34m()\u001b[0m\n",
      "\u001b[1;32mpandas\\_libs\\hashtable_class_helper.pxi\u001b[0m in \u001b[0;36mpandas._libs.hashtable.PyObjectHashTable.get_item\u001b[1;34m()\u001b[0m\n",
      "\u001b[1;31mKeyError\u001b[0m: 'Address - City'",
      "\nThe above exception was the direct cause of the following exception:\n",
      "\u001b[1;31mKeyError\u001b[0m                                  Traceback (most recent call last)",
      "\u001b[1;32m~\\AppData\\Local\\Temp/ipykernel_10896/231000875.py\u001b[0m in \u001b[0;36m<module>\u001b[1;34m\u001b[0m\n\u001b[0;32m     13\u001b[0m \u001b[0mnb\u001b[0m \u001b[1;33m=\u001b[0m \u001b[0mnb\u001b[0m\u001b[1;33m.\u001b[0m\u001b[0mloc\u001b[0m\u001b[1;33m[\u001b[0m\u001b[0mnb\u001b[0m\u001b[1;33m[\u001b[0m\u001b[1;34m'drop'\u001b[0m\u001b[1;33m]\u001b[0m\u001b[1;33m==\u001b[0m\u001b[1;34m'1'\u001b[0m \u001b[1;33m]\u001b[0m\u001b[1;33m\u001b[0m\u001b[1;33m\u001b[0m\u001b[0m\n\u001b[0;32m     14\u001b[0m \u001b[1;33m\u001b[0m\u001b[0m\n\u001b[1;32m---> 15\u001b[1;33m \u001b[0mnb\u001b[0m\u001b[1;33m[\u001b[0m\u001b[1;34m'Address'\u001b[0m\u001b[1;33m]\u001b[0m \u001b[1;33m=\u001b[0m \u001b[0mnb\u001b[0m\u001b[1;33m[\u001b[0m\u001b[1;34m'Address - City'\u001b[0m\u001b[1;33m]\u001b[0m \u001b[1;33m+\u001b[0m \u001b[1;34m\" \"\u001b[0m \u001b[1;33m+\u001b[0m \u001b[0mnb\u001b[0m\u001b[1;33m[\u001b[0m\u001b[1;34m'Address - Line 1'\u001b[0m\u001b[1;33m]\u001b[0m\u001b[1;33m\u001b[0m\u001b[1;33m\u001b[0m\u001b[0m\n\u001b[0m\u001b[0;32m     16\u001b[0m \u001b[1;33m\u001b[0m\u001b[0m\n\u001b[0;32m     17\u001b[0m \u001b[0mnb_\u001b[0m\u001b[1;33m=\u001b[0m \u001b[0mnb\u001b[0m\u001b[1;33m[\u001b[0m\u001b[1;33m[\u001b[0m\u001b[1;34m'Address'\u001b[0m\u001b[1;33m,\u001b[0m \u001b[1;34m'Account Name'\u001b[0m\u001b[1;33m]\u001b[0m\u001b[1;33m]\u001b[0m\u001b[1;33m\u001b[0m\u001b[1;33m\u001b[0m\u001b[0m\n",
      "\u001b[1;32m~\\anaconda3\\lib\\site-packages\\pandas\\core\\frame.py\u001b[0m in \u001b[0;36m__getitem__\u001b[1;34m(self, key)\u001b[0m\n\u001b[0;32m   3456\u001b[0m             \u001b[1;32mif\u001b[0m \u001b[0mself\u001b[0m\u001b[1;33m.\u001b[0m\u001b[0mcolumns\u001b[0m\u001b[1;33m.\u001b[0m\u001b[0mnlevels\u001b[0m \u001b[1;33m>\u001b[0m \u001b[1;36m1\u001b[0m\u001b[1;33m:\u001b[0m\u001b[1;33m\u001b[0m\u001b[1;33m\u001b[0m\u001b[0m\n\u001b[0;32m   3457\u001b[0m                 \u001b[1;32mreturn\u001b[0m \u001b[0mself\u001b[0m\u001b[1;33m.\u001b[0m\u001b[0m_getitem_multilevel\u001b[0m\u001b[1;33m(\u001b[0m\u001b[0mkey\u001b[0m\u001b[1;33m)\u001b[0m\u001b[1;33m\u001b[0m\u001b[1;33m\u001b[0m\u001b[0m\n\u001b[1;32m-> 3458\u001b[1;33m             \u001b[0mindexer\u001b[0m \u001b[1;33m=\u001b[0m \u001b[0mself\u001b[0m\u001b[1;33m.\u001b[0m\u001b[0mcolumns\u001b[0m\u001b[1;33m.\u001b[0m\u001b[0mget_loc\u001b[0m\u001b[1;33m(\u001b[0m\u001b[0mkey\u001b[0m\u001b[1;33m)\u001b[0m\u001b[1;33m\u001b[0m\u001b[1;33m\u001b[0m\u001b[0m\n\u001b[0m\u001b[0;32m   3459\u001b[0m             \u001b[1;32mif\u001b[0m \u001b[0mis_integer\u001b[0m\u001b[1;33m(\u001b[0m\u001b[0mindexer\u001b[0m\u001b[1;33m)\u001b[0m\u001b[1;33m:\u001b[0m\u001b[1;33m\u001b[0m\u001b[1;33m\u001b[0m\u001b[0m\n\u001b[0;32m   3460\u001b[0m                 \u001b[0mindexer\u001b[0m \u001b[1;33m=\u001b[0m \u001b[1;33m[\u001b[0m\u001b[0mindexer\u001b[0m\u001b[1;33m]\u001b[0m\u001b[1;33m\u001b[0m\u001b[1;33m\u001b[0m\u001b[0m\n",
      "\u001b[1;32m~\\anaconda3\\lib\\site-packages\\pandas\\core\\indexes\\base.py\u001b[0m in \u001b[0;36mget_loc\u001b[1;34m(self, key, method, tolerance)\u001b[0m\n\u001b[0;32m   3361\u001b[0m                 \u001b[1;32mreturn\u001b[0m \u001b[0mself\u001b[0m\u001b[1;33m.\u001b[0m\u001b[0m_engine\u001b[0m\u001b[1;33m.\u001b[0m\u001b[0mget_loc\u001b[0m\u001b[1;33m(\u001b[0m\u001b[0mcasted_key\u001b[0m\u001b[1;33m)\u001b[0m\u001b[1;33m\u001b[0m\u001b[1;33m\u001b[0m\u001b[0m\n\u001b[0;32m   3362\u001b[0m             \u001b[1;32mexcept\u001b[0m \u001b[0mKeyError\u001b[0m \u001b[1;32mas\u001b[0m \u001b[0merr\u001b[0m\u001b[1;33m:\u001b[0m\u001b[1;33m\u001b[0m\u001b[1;33m\u001b[0m\u001b[0m\n\u001b[1;32m-> 3363\u001b[1;33m                 \u001b[1;32mraise\u001b[0m \u001b[0mKeyError\u001b[0m\u001b[1;33m(\u001b[0m\u001b[0mkey\u001b[0m\u001b[1;33m)\u001b[0m \u001b[1;32mfrom\u001b[0m \u001b[0merr\u001b[0m\u001b[1;33m\u001b[0m\u001b[1;33m\u001b[0m\u001b[0m\n\u001b[0m\u001b[0;32m   3364\u001b[0m \u001b[1;33m\u001b[0m\u001b[0m\n\u001b[0;32m   3365\u001b[0m         \u001b[1;32mif\u001b[0m \u001b[0mis_scalar\u001b[0m\u001b[1;33m(\u001b[0m\u001b[0mkey\u001b[0m\u001b[1;33m)\u001b[0m \u001b[1;32mand\u001b[0m \u001b[0misna\u001b[0m\u001b[1;33m(\u001b[0m\u001b[0mkey\u001b[0m\u001b[1;33m)\u001b[0m \u001b[1;32mand\u001b[0m \u001b[1;32mnot\u001b[0m \u001b[0mself\u001b[0m\u001b[1;33m.\u001b[0m\u001b[0mhasnans\u001b[0m\u001b[1;33m:\u001b[0m\u001b[1;33m\u001b[0m\u001b[1;33m\u001b[0m\u001b[0m\n",
      "\u001b[1;31mKeyError\u001b[0m: 'Address - City'"
     ]
    }
   ],
   "source": [
    "#NEW BUSINESS FEES\n",
    "\n",
    "file = 'PolicyTransaction_Master.xlsx'\n",
    "\n",
    "nb = pd.read_excel(path + file, engine='openpyxl', dtype={'Policy Number': 'str'}).fillna('')\n",
    "\n",
    "\n",
    "#nb = nb.loc[~((nb['Line of Business'].isin(['Genl Liability', 'Workers comp'])) | (nb['Transaction Type']=='Renewal')), :] \n",
    "\n",
    "nb['drop'] = np.where((nb['Line of Business'].isin(['Genl Liability', 'Workers comp'])) & (nb['Transaction Type']=='Renewal') ,'1',\n",
    "                      np.where((nb['Transaction Type']!='Renewal') ,'1','0'))\n",
    "\n",
    "nb = nb.loc[nb['drop']=='1' ]\n",
    "\n",
    "nb['Address'] = nb['Address - City'] + \" \" + nb['Address - Line 1']\n",
    "\n",
    "nb_= nb[['Address', 'Account Name']]\n",
    "\n",
    "#print(nb)\n",
    "\n",
    "nb_ad = pd.pivot_table(nb, values='Policy Number', index='Account Name', aggfunc='count', fill_value=0).fillna(0)\n",
    "nb_add = pd.DataFrame(nb_ad.to_records())\n",
    "#print(nb_add)\n",
    "\n",
    "#staate\n",
    "nb_add= pd.merge(nb_add, nb_, how=\"left\", on='Account Name').drop_duplicates(subset=['Account Name'], keep='last')\n",
    "\n",
    "\n",
    "\n",
    "file = 'InvoiceLineItemDetail Mes.xls'\n",
    "\n",
    "df2 = pd.read_excel(path + file, engine='xlrd', dtype={'Policy Number': 'str'}).fillna('')\n",
    "\n",
    "df2 = pd.DataFrame(df2)\n",
    "#df2.columns = df2.iloc[4]\n",
    "df3 = df2.iloc[5:, :]\n",
    "\n",
    "df3=df3.rename(columns={\"Unnamed: 1\": \"Line Item Type\", \"Unnamed: 6\":'Payer', \"Unnamed: 14\": \"Invoice No.\", \"Unnamed: 17\": \"Receipt Date\", \"Unnamed: 22\": \"Amount\"})\n",
    "df4= df3[[\"Line Item Type\", 'Payer', \"Invoice No.\", \"Receipt Date\", \"Amount\"]]\n",
    "df4 = df4[(df4['Payer'].str.len() > 0) ]\n",
    "\n",
    "ili_mes=df4\n",
    "\n",
    "ili_ad = pd.pivot_table(ili_mes, values='Amount', index='Payer', columns='Line Item Type', aggfunc='sum', margins=True, margins_name='Total').fillna(0)\n",
    "ili_add = pd.DataFrame(ili_ad.to_records()).fillna(False)\n",
    "\n",
    "\n",
    "comnt= crr[['Payer', 'Comment']].fillna('')\n",
    "\n",
    "#comnt['mar']= 'x'\n",
    "#ili_add= pd.merge(ili_add, comnt, how=\"left\", on='Payer')\n",
    "\n",
    "\n",
    "for i in ili_add['Payer'].to_list():\n",
    "    comnt.loc[comnt['Payer'].astype(str).str.contains(i), 'Payer' ] = i\n",
    "\n",
    "ili_add= pd.merge(ili_add, comnt, how=\"left\", on='Payer')\n",
    "\n",
    "print(ili_add)\n",
    "\n",
    "\n",
    "#print(ili_add)\n",
    "\n",
    "for i in ili_add['Payer'].to_list():\n",
    "    nb_add.loc[nb_add['Account Name'].astype(str).str.contains(i), 'Payer' ] = i\n",
    "\n",
    "nb_fe= pd.merge(nb_add, ili_add, how=\"left\", on='Payer')\n",
    "\n",
    "id_nb= nb [['Applicant ID',\t'Account Name',\t'Assigned Producer']]\n",
    "\n",
    "#print(id_nb)\n",
    "\n",
    "nb_fee= pd.merge(nb_fe, id_nb, how=\"left\", on='Account Name').drop_duplicates(subset=['Account Name'], keep='last')\n",
    "\n",
    "\n",
    "print(nb_fee)\n",
    "\n",
    "#rint(result)\n"
   ]
  },
  {
   "cell_type": "code",
   "execution_count": null,
   "metadata": {
    "id": "50qq1TqSN_pW"
   },
   "outputs": [],
   "source": [
    "nb_fee_1 = pd.pivot_table(nb_fee, values='Total', index='Assigned Producer', aggfunc='sum' ).fillna(0)\n",
    "nb_fee_2 = pd.pivot_table(nb, values='Policy Number', index='Assigned Producer', aggfunc='count').fillna(0)\n",
    "\n",
    "nb_fee_ad= nb_fee_2.join(nb_fee_1)\n",
    "\n",
    "nb_fee_ad= pd.DataFrame(nb_fee_ad.to_records()).append(nb_fee_ad.sum().rename('Total')).fillna(0)\n",
    "\n",
    "\n",
    "print(nb_fee_ad)  "
   ]
  },
  {
   "cell_type": "code",
   "execution_count": null,
   "metadata": {
    "id": "Qva7BBtWnREv"
   },
   "outputs": [],
   "source": [
    "BS= BS[['Ref #',\t'Cust ID',\t'Inv #',\t'Date',\t'Result',\t'Payment Type',\t'Account Type',\t'Account #',\t'Name',\t'TYPE',\t'Status',\t'Approval Code',\t'Auth Amt',\t'Capture Amt',\t'Tip Amt',\t'User']]\n",
    "\n",
    "BS.drop(index=BS[BS['Ref #'] == 'Ref #'].index, inplace=True)\n",
    "\n",
    "#print(BS)\n",
    "#BS.dtypes"
   ]
  },
  {
   "cell_type": "code",
   "execution_count": null,
   "metadata": {
    "id": "nz93_gQEtwCG"
   },
   "outputs": [],
   "source": [
    "#CONVERTIR FINES DE SEMANA A VIERNES\n",
    "\n",
    "BS['dia'] = pd.to_datetime(BS['Date']).dt.dayofweek\n",
    "# Monday=0, Sunday=6\n",
    "#restar días\n",
    "\n",
    "def dias(df):\n",
    "    if df['dia'] == 6:\n",
    "        return (df['Date']- pd.Timedelta(days = 2))\n",
    "    elif df['dia'] == 5:\n",
    "        return (df['Date']- pd.Timedelta(days = 1))\n",
    "    elif df['dia'] == 0:\n",
    "        return (df['Date']- pd.Timedelta(days = 3))\n",
    "    else:\n",
    "        return df['Date']\n",
    "\n",
    "BS['Date_2'] = BS.apply(dias, axis=1)  \n",
    "\n",
    "BS['Date'] = pd.to_datetime(BS['Date']).dt.date\n",
    "BS['Date_2'] = pd.to_datetime(BS['Date_2']).dt.date\n",
    "BS.sort_values(by=['Date_2'])\n",
    "BS['RD'] =BS['Date_2'].astype(str)\n"
   ]
  },
  {
   "cell_type": "code",
   "execution_count": null,
   "metadata": {
    "id": "DUZxc2NkuT8V"
   },
   "outputs": [],
   "source": [
    "uniques = crr.RD.unique()\n",
    "\n",
    "for i in uniques:\n",
    "    with pd.ExcelWriter(f'Cierre diario {i}.xlsx') as writer:\n",
    "    ######## CASH RECEIPTS REPORT ###############\n",
    "        crr[crr.RD == i].to_excel(writer, index=None, sheet_name='CRR')\n",
    "\n",
    "    ######## DIRECT BILL CASH REPORT #############\n",
    "        dbc[dbc.RD == i].to_excel(writer, index=None, sheet_name='DBC')\n",
    "\n",
    "    ######## INLINE INVOICE #################\n",
    "        ili[ili.RD == i].to_excel(writer, index=None, sheet_name='ILI')\n",
    "\n",
    "    ######## BLACK STONE ###############\n",
    "        BS[BS.RD == i].to_excel(writer, index=None, sheet_name='BS') \n",
    "\n",
    "    ######### RESUMEN FORMA DE PAGO###############\n",
    "        crr2=crr[crr.RD == i].pivot_table(index='Entered By', columns=['TYPE'], values= ['Receipt Amount'], aggfunc='sum', margins=True, margins_name='Total').fillna(0)\n",
    "        crr3 = pd.DataFrame(crr2.to_records())\n",
    "        crr3.to_excel(writer, index=None, sheet_name='CRR resumen')\n",
    "\n",
    "    ######### RESUMEN FORMA DE PAGO###############\n",
    "        BS1=BS[BS.RD == i].reset_index().pivot_table(values='Auth Amt', index='User', columns='TYPE', aggfunc='sum').fillna(0)\n",
    "        BS_1 = pd.DataFrame(BS1.to_records())\n",
    "        BS_1.to_excel(writer, index=None, sheet_name='BS resumen')\n",
    "\n",
    "    ######### RESUMEN NEW BUSINESS ###############\n",
    "    #BS1=BS[BS.RD == i].reset_index().pivot_table(values='Auth Amt', index='User', columns='TYPE', aggfunc='sum').fillna(0)\n",
    "    #BS_1 = pd.DataFrame(BS1.to_records())\n",
    "        nb.to_excel(writer, index=None, sheet_name='New Business')\n",
    "        nb_fee.to_excel(writer, index=None, sheet_name='NB FEES')\n",
    "        nb_fee_ad.to_excel(writer, index=None, sheet_name='Fees resumen')\n"
   ]
  },
  {
   "cell_type": "code",
   "execution_count": null,
   "metadata": {
    "id": "nlfy0ChJ8Itq"
   },
   "outputs": [],
   "source": []
  }
 ],
 "metadata": {
  "colab": {
   "provenance": []
  },
  "kernelspec": {
   "display_name": "Python 3 (ipykernel)",
   "language": "python",
   "name": "python3"
  },
  "language_info": {
   "codemirror_mode": {
    "name": "ipython",
    "version": 3
   },
   "file_extension": ".py",
   "mimetype": "text/x-python",
   "name": "python",
   "nbconvert_exporter": "python",
   "pygments_lexer": "ipython3",
   "version": "3.10.9"
  }
 },
 "nbformat": 4,
 "nbformat_minor": 1
}
